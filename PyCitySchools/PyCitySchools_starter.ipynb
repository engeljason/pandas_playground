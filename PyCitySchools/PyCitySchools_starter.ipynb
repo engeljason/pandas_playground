{
 "cells": [
  {
   "source": [
    "### Note\n",
    "* Instructions have been included for each segment. You do not have to follow them exactly, but they are included to help you think through the steps."
   ],
   "cell_type": "markdown",
   "metadata": {}
  },
  {
   "cell_type": "code",
   "execution_count": 1,
   "metadata": {},
   "outputs": [],
   "source": [
    "# Dependencies and Setup\n",
    "import pandas as pd\n",
    "\n",
    "# File to Load (Remember to Change These)\n",
    "school_data_to_load = \"Resources/schools_complete.csv\"\n",
    "student_data_to_load = \"Resources/students_complete.csv\"\n",
    "\n",
    "# Read School and Student Data File and store into Pandas DataFrames\n",
    "# School ID | school_name | type | size | budget\n",
    "school_df = pd.read_csv(school_data_to_load)\n",
    "# Student ID | student_name | gender | grade | school_name | reading_score | math_score\n",
    "student_df = pd.read_csv(student_data_to_load)\n",
    "\n",
    "# Combine the data into a single dataset.  \n",
    "merged_df = pd.merge(student_df, school_df, how=\"left\", on=[\"school_name\", \"school_name\"])\n",
    "\n",
    "district_summary_df = None\n",
    "\n",
    "def get_district_summary() -> pd.DataFrame:\n",
    "    global district_summary_df\n",
    "    if district_summary_df is None:\n",
    "        school_count = school_df[\"School ID\"].nunique()\n",
    "        student_count = student_df[\"Student ID\"].nunique()\n",
    "        total_budget = school_df[\"budget\"].sum()\n",
    "        math_average = student_df[\"math_score\"].mean()\n",
    "        reading_average = student_df[\"reading_score\"].mean()\n",
    "        math_passing_count = sum(student_df[\"math_score\"] >= 70)/student_count\n",
    "        reading_passing_count = sum(student_df[\"reading_score\"] >= 70)/student_count\n",
    "        passing_count = sum((student_df[\"reading_score\"] >= 70) & (student_df[\"math_score\"] >= 70))/student_count\n",
    "        district_summary_df = pd.DataFrame(data = [[school_count, student_count, total_budget, math_average, reading_average, math_passing_count, reading_passing_count, passing_count]], index = [\"Summary\"], columns = [\"Total Schools\", \"Total Students\", \"Total Budget\", \"Average Math Score\", \"Average Reading Score\", \"% Passing Math\", \"% Passing Reading\", \"% Passing Overall\"])\n",
    "    return district_summary_df\n",
    "\n",
    "def district_summary() -> pd.DataFrame:\n",
    "    return get_district_summary().style.format({\n",
    "        'Total Students': '{:,}'.format,\n",
    "        'Total Budget': '${:,.2f}'.format,\n",
    "        'Average Math Score': '{:,.2f}%'.format,\n",
    "        'Average Reading Score': '{:,.2f}%'.format,\n",
    "        '% Passing Math': '{:,.2%}'.format,\n",
    "        '% Passing Reading': '{:,.2%}'.format,\n",
    "        '% Passing Overall': '{:,.2%}'.format\n",
    "})\n",
    "\n",
    "school_summary_df = None\n",
    "\n",
    "def get_school_summary() -> pd.DataFrame:\n",
    "    global school_summary_df\n",
    "    if school_summary_df is None:\n",
    "        total_students_s = merged_df.groupby(\"School ID\")[\"Student ID\"].nunique().rename(\"Total Students\")\n",
    "        school_data_s = school_df.set_index(\"School ID\").loc[:, [\"school_name\", \"type\", \"budget\"]].rename(columns = {\"school_name\" : \"School Name\", \"type\" : \"School Type\", \"budget\" : \"Total School Budget\"})\n",
    "        per_student_budget_s = (school_data_s[\"Total School Budget\"]/total_students_s).rename(\"Per Student Budget\")\n",
    "        ave_math_reading_s = merged_df.groupby(\"School ID\")[[\"math_score\", \"reading_score\"]].mean().rename(columns = {\"math_score\" : \"Average Math Score\", \"reading_score\" : \"Average Reading Score\"})\n",
    "        students_passing_math_reading_s = (merged_df.set_index(\"School ID\")[[\"math_score\", \"reading_score\"]] >= 70)\n",
    "        students_passing_both_s = (students_passing_math_reading_s[\"math_score\"] & students_passing_math_reading_s[\"reading_score\"])\n",
    "        passing_math_reading_count_s = students_passing_math_reading_s.groupby(\"School ID\").sum().rename(columns = {\"math_score\" : \"Students Passing Math\", \"reading_score\" : \"Students Passing Reading\"})\n",
    "        passing_math_reading_percent_s = passing_math_reading_count_s.div(total_students_s, axis = 0).rename(columns = {\"Students Passing Math\" : \"% Passing Math\", \"Students Passing Reading\" : \"% Passing Reading\"})\n",
    "        passing_both_count_s = students_passing_both_s.groupby(\"School ID\").sum()\n",
    "        passing_both_percent_s = (passing_both_count_s/total_students_s).rename(\"% Passing Overall\")\n",
    "\n",
    "        school_summary_df = pd.DataFrame(pd.concat([total_students_s, school_data_s, per_student_budget_s, ave_math_reading_s, passing_math_reading_percent_s, passing_both_percent_s], axis = 1), columns = [\"School Name\", \"School Type\", \"Total Students\", \"Total School Budget\", \"Per Student Budget\", \"Average Math Score\", \"Average Reading Score\", \"% Passing Math\", \"% Passing Reading\", \"% Passing Overall\"])\n",
    "    return school_summary_df\n",
    "\n",
    "def school_summary(head : int = 0):\n",
    "    if (head > 0): return format_school_summary(get_school_summary().set_index(\"School Name\").sort_index().head(head))\n",
    "    else: return format_school_summary(get_school_summary().set_index(\"School Name\").sort_index())\n",
    "\n",
    "def format_school_summary(df : pd.DataFrame):\n",
    "    return df.style.format({\n",
    "    'Total Students': '{:,}'.format,\n",
    "    'Total School Budget': '${:,.2f}'.format,\n",
    "    'Per Student Budget': '${:,.2f}'.format,\n",
    "    'Average Math Score': '{:,.2f}%'.format,\n",
    "    'Average Reading Score': '{:,.2f}%'.format,\n",
    "    '% Passing Math': '{:,.2%}'.format,\n",
    "    '% Passing Reading': '{:,.2%}'.format,\n",
    "    '% Passing Overall': '{:,.2%}'.format\n",
    "})\n",
    "\n",
    "def top_schools(head : int = 5):\n",
    "    return format_school_summary(get_school_summary().set_index(\"School Name\").nlargest(head, \"% Passing Overall\"))\n",
    "    \n",
    "def bottom_schools(tail : int = 5):\n",
    "    return format_school_summary(get_school_summary().set_index(\"School Name\").nsmallest(tail, \"% Passing Overall\"))\n",
    "\n",
    "school_math_scores_df = None\n",
    "\n",
    "def get_math_scores_by_grade():\n",
    "    global school_math_scores_df\n",
    "    if school_math_scores_df is None:\n",
    "        school_math_scores_df = pd.DataFrame(merged_df.rename(columns = {\"school_name\" : \"School Name\", \"grade\" : \"Grade\"}).groupby([\"School ID\", \"School Name\", \"Grade\"])[\"math_score\"].mean()).reset_index(drop = False).pivot(index = \"School Name\", columns = \"Grade\", values = \"math_score\")[[\"9th\", \"10th\", \"11th\", \"12th\"]]\n",
    "    return school_math_scores_df\n",
    "\n",
    "def format_scores_by_grade(df : pd.DataFrame):\n",
    "    return df.style.format('{:,.2f}%')\n",
    "\n",
    "school_reading_scores_df = None\n",
    "\n",
    "def math_scores_by_grade():\n",
    "    return format_scores_by_grade(get_math_scores_by_grade())\n",
    "\n",
    "def get_reading_scores_by_grade():\n",
    "    global school_reading_scores_df\n",
    "    if school_reading_scores_df is None:\n",
    "        school_reading_scores_df = pd.DataFrame(merged_df.rename(columns = {\"school_name\" : \"School Name\", \"grade\" : \"Grade\"}).groupby([\"School ID\", \"School Name\", \"Grade\"])[\"reading_score\"].mean()).reset_index(drop = False).pivot(index = \"School Name\", columns = \"Grade\", values = \"reading_score\")[[\"9th\", \"10th\", \"11th\", \"12th\"]]\n",
    "    return school_reading_scores_df\n",
    "\n",
    "def reading_scores_by_grade():\n",
    "    return format_scores_by_grade(get_reading_scores_by_grade())"
   ]
  },
  {
   "cell_type": "markdown",
   "metadata": {},
   "source": [
    "## Scores by School Spending\n",
    "\n",
    "* Create a table that breaks down school performances based on average Spending Ranges (Per Student). Use 4 reasonable bins to group school spending. Include in the table each of the following:\n",
    "  * Average Math Score\n",
    "  * Average Reading Score\n",
    "  * % Passing Math\n",
    "  * % Passing Reading\n",
    "  * Overall Passing Rate (Average of the above two)"
   ]
  },
  {
   "cell_type": "code",
   "execution_count": 18,
   "metadata": {},
   "outputs": [
    {
     "data": {
      "text/html": [
       "<div>\n",
       "<style scoped>\n",
       "    .dataframe tbody tr th:only-of-type {\n",
       "        vertical-align: middle;\n",
       "    }\n",
       "\n",
       "    .dataframe tbody tr th {\n",
       "        vertical-align: top;\n",
       "    }\n",
       "\n",
       "    .dataframe thead th {\n",
       "        text-align: right;\n",
       "    }\n",
       "</style>\n",
       "<table border=\"1\" class=\"dataframe\">\n",
       "  <thead>\n",
       "    <tr style=\"text-align: right;\">\n",
       "      <th></th>\n",
       "      <th>Average Math Score</th>\n",
       "      <th>Average Reading Score</th>\n",
       "      <th>% Passing Math</th>\n",
       "      <th>% Passing Reading</th>\n",
       "      <th>% Overall Passing</th>\n",
       "    </tr>\n",
       "    <tr>\n",
       "      <th>Spending Ranges (Per Student)</th>\n",
       "      <th></th>\n",
       "      <th></th>\n",
       "      <th></th>\n",
       "      <th></th>\n",
       "      <th></th>\n",
       "    </tr>\n",
       "  </thead>\n",
       "  <tbody>\n",
       "    <tr>\n",
       "      <th>&lt;$585</th>\n",
       "      <td>83.46</td>\n",
       "      <td>83.93</td>\n",
       "      <td>93.46</td>\n",
       "      <td>96.61</td>\n",
       "      <td>90.37</td>\n",
       "    </tr>\n",
       "    <tr>\n",
       "      <th>$585-630</th>\n",
       "      <td>81.90</td>\n",
       "      <td>83.16</td>\n",
       "      <td>87.13</td>\n",
       "      <td>92.72</td>\n",
       "      <td>81.42</td>\n",
       "    </tr>\n",
       "    <tr>\n",
       "      <th>$630-645</th>\n",
       "      <td>78.52</td>\n",
       "      <td>81.62</td>\n",
       "      <td>73.48</td>\n",
       "      <td>84.39</td>\n",
       "      <td>62.86</td>\n",
       "    </tr>\n",
       "    <tr>\n",
       "      <th>$645-680</th>\n",
       "      <td>77.00</td>\n",
       "      <td>81.03</td>\n",
       "      <td>66.16</td>\n",
       "      <td>81.13</td>\n",
       "      <td>53.53</td>\n",
       "    </tr>\n",
       "  </tbody>\n",
       "</table>\n",
       "</div>"
      ],
      "text/plain": [
       "                               Average Math Score  Average Reading Score  \\\n",
       "Spending Ranges (Per Student)                                              \n",
       "<$585                                       83.46                  83.93   \n",
       "$585-630                                    81.90                  83.16   \n",
       "$630-645                                    78.52                  81.62   \n",
       "$645-680                                    77.00                  81.03   \n",
       "\n",
       "                               % Passing Math  % Passing Reading  \\\n",
       "Spending Ranges (Per Student)                                      \n",
       "<$585                                   93.46              96.61   \n",
       "$585-630                                87.13              92.72   \n",
       "$630-645                                73.48              84.39   \n",
       "$645-680                                66.16              81.13   \n",
       "\n",
       "                               % Overall Passing  \n",
       "Spending Ranges (Per Student)                     \n",
       "<$585                                      90.37  \n",
       "$585-630                                   81.42  \n",
       "$630-645                                   62.86  \n",
       "$645-680                                   53.53  "
      ]
     },
     "execution_count": 18,
     "metadata": {},
     "output_type": "execute_result"
    }
   ],
   "source": []
  },
  {
   "source": [
    "# IN PROGRESS\n",
    "###########################################################################\n",
    "# DONE"
   ],
   "cell_type": "markdown",
   "metadata": {}
  },
  {
   "cell_type": "markdown",
   "metadata": {},
   "source": [
    "## District Summary\n",
    "\n",
    "* Calculate the total number of schools\n",
    "\n",
    "* Calculate the total number of students\n",
    "\n",
    "* Calculate the total budget\n",
    "\n",
    "* Calculate the average math score \n",
    "\n",
    "* Calculate the average reading score\n",
    "\n",
    "* Calculate the percentage of students with a passing math score (70 or greater)\n",
    "\n",
    "* Calculate the percentage of students with a passing reading score (70 or greater)\n",
    "\n",
    "* Calculate the percentage of students who passed math **and** reading (% Overall Passing)\n",
    "\n",
    "* Create a dataframe to hold the above results\n",
    "\n",
    "* Optional: give the displayed data cleaner formatting"
   ]
  },
  {
   "cell_type": "code",
   "execution_count": 2,
   "metadata": {},
   "outputs": [
    {
     "output_type": "execute_result",
     "data": {
      "text/plain": [
       "<pandas.io.formats.style.Styler at 0x1eee1f0f5c0>"
      ],
      "text/html": "<style  type=\"text/css\" >\n</style><table id=\"T_2d868fd2_c995_11eb_9f47_001bdc06ae6c\" ><thead>    <tr>        <th class=\"blank level0\" ></th>        <th class=\"col_heading level0 col0\" >Total Schools</th>        <th class=\"col_heading level0 col1\" >Total Students</th>        <th class=\"col_heading level0 col2\" >Total Budget</th>        <th class=\"col_heading level0 col3\" >Average Math Score</th>        <th class=\"col_heading level0 col4\" >Average Reading Score</th>        <th class=\"col_heading level0 col5\" >% Passing Math</th>        <th class=\"col_heading level0 col6\" >% Passing Reading</th>        <th class=\"col_heading level0 col7\" >% Passing Overall</th>    </tr></thead><tbody>\n                <tr>\n                        <th id=\"T_2d868fd2_c995_11eb_9f47_001bdc06ae6clevel0_row0\" class=\"row_heading level0 row0\" >Summary</th>\n                        <td id=\"T_2d868fd2_c995_11eb_9f47_001bdc06ae6crow0_col0\" class=\"data row0 col0\" >15</td>\n                        <td id=\"T_2d868fd2_c995_11eb_9f47_001bdc06ae6crow0_col1\" class=\"data row0 col1\" >39,170</td>\n                        <td id=\"T_2d868fd2_c995_11eb_9f47_001bdc06ae6crow0_col2\" class=\"data row0 col2\" >$24,649,428.00</td>\n                        <td id=\"T_2d868fd2_c995_11eb_9f47_001bdc06ae6crow0_col3\" class=\"data row0 col3\" >78.99%</td>\n                        <td id=\"T_2d868fd2_c995_11eb_9f47_001bdc06ae6crow0_col4\" class=\"data row0 col4\" >81.88%</td>\n                        <td id=\"T_2d868fd2_c995_11eb_9f47_001bdc06ae6crow0_col5\" class=\"data row0 col5\" >74.98%</td>\n                        <td id=\"T_2d868fd2_c995_11eb_9f47_001bdc06ae6crow0_col6\" class=\"data row0 col6\" >85.81%</td>\n                        <td id=\"T_2d868fd2_c995_11eb_9f47_001bdc06ae6crow0_col7\" class=\"data row0 col7\" >65.17%</td>\n            </tr>\n    </tbody></table>"
     },
     "metadata": {},
     "execution_count": 2
    }
   ],
   "source": [
    "## use get_district_summary() for the raw data\n",
    "# get_district_summary() \n",
    "## without get_ to get the formatter/pretty print\n",
    "district_summary()"
   ]
  },
  {
   "source": [
    "## School Summary\n",
    "\n",
    "* Create an overview table that summarizes key metrics about each school, including:\n",
    "  * School Name\n",
    "  * School Type\n",
    "  * Total Students\n",
    "  * Total School Budget\n",
    "  * Per Student Budget\n",
    "  * Average Math Score\n",
    "  * Average Reading Score\n",
    "  * % Passing Math\n",
    "  * % Passing Reading\n",
    "  * % Overall Passing (The percentage of students that passed math **and** reading.)\n",
    "  \n",
    "* Create a dataframe to hold the above results"
   ],
   "cell_type": "markdown",
   "metadata": {}
  },
  {
   "cell_type": "code",
   "execution_count": 3,
   "metadata": {},
   "outputs": [
    {
     "output_type": "execute_result",
     "data": {
      "text/plain": [
       "<pandas.io.formats.style.Styler at 0x1eee4f52e48>"
      ],
      "text/html": "<style  type=\"text/css\" >\n</style><table id=\"T_2e45fdcc_c995_11eb_864e_001bdc06ae6c\" ><thead>    <tr>        <th class=\"blank level0\" ></th>        <th class=\"col_heading level0 col0\" >School Type</th>        <th class=\"col_heading level0 col1\" >Total Students</th>        <th class=\"col_heading level0 col2\" >Total School Budget</th>        <th class=\"col_heading level0 col3\" >Per Student Budget</th>        <th class=\"col_heading level0 col4\" >Average Math Score</th>        <th class=\"col_heading level0 col5\" >Average Reading Score</th>        <th class=\"col_heading level0 col6\" >% Passing Math</th>        <th class=\"col_heading level0 col7\" >% Passing Reading</th>        <th class=\"col_heading level0 col8\" >% Passing Overall</th>    </tr>    <tr>        <th class=\"index_name level0\" >School Name</th>        <th class=\"blank\" ></th>        <th class=\"blank\" ></th>        <th class=\"blank\" ></th>        <th class=\"blank\" ></th>        <th class=\"blank\" ></th>        <th class=\"blank\" ></th>        <th class=\"blank\" ></th>        <th class=\"blank\" ></th>        <th class=\"blank\" ></th>    </tr></thead><tbody>\n                <tr>\n                        <th id=\"T_2e45fdcc_c995_11eb_864e_001bdc06ae6clevel0_row0\" class=\"row_heading level0 row0\" >Bailey High School</th>\n                        <td id=\"T_2e45fdcc_c995_11eb_864e_001bdc06ae6crow0_col0\" class=\"data row0 col0\" >District</td>\n                        <td id=\"T_2e45fdcc_c995_11eb_864e_001bdc06ae6crow0_col1\" class=\"data row0 col1\" >4,976</td>\n                        <td id=\"T_2e45fdcc_c995_11eb_864e_001bdc06ae6crow0_col2\" class=\"data row0 col2\" >$3,124,928.00</td>\n                        <td id=\"T_2e45fdcc_c995_11eb_864e_001bdc06ae6crow0_col3\" class=\"data row0 col3\" >$628.00</td>\n                        <td id=\"T_2e45fdcc_c995_11eb_864e_001bdc06ae6crow0_col4\" class=\"data row0 col4\" >77.05%</td>\n                        <td id=\"T_2e45fdcc_c995_11eb_864e_001bdc06ae6crow0_col5\" class=\"data row0 col5\" >81.03%</td>\n                        <td id=\"T_2e45fdcc_c995_11eb_864e_001bdc06ae6crow0_col6\" class=\"data row0 col6\" >66.68%</td>\n                        <td id=\"T_2e45fdcc_c995_11eb_864e_001bdc06ae6crow0_col7\" class=\"data row0 col7\" >81.93%</td>\n                        <td id=\"T_2e45fdcc_c995_11eb_864e_001bdc06ae6crow0_col8\" class=\"data row0 col8\" >54.64%</td>\n            </tr>\n    </tbody></table>"
     },
     "metadata": {},
     "execution_count": 3
    }
   ],
   "source": [
    "## use get_school_summary() for the raw data\n",
    "# get_school_summary() \n",
    "## without get_ to get the formatter/pretty print\n",
    "school_summary(1)"
   ]
  },
  {
   "source": [
    "## Top Performing Schools (By % Overall Passing)\n",
    "\n",
    "* Sort and display the top five performing schools by % overall passing."
   ],
   "cell_type": "markdown",
   "metadata": {}
  },
  {
   "cell_type": "code",
   "execution_count": 4,
   "metadata": {},
   "outputs": [
    {
     "output_type": "execute_result",
     "data": {
      "text/plain": [
       "<pandas.io.formats.style.Styler at 0x1eee1f0fdd8>"
      ],
      "text/html": "<style  type=\"text/css\" >\n</style><table id=\"T_2ef2b406_c995_11eb_abcf_001bdc06ae6c\" ><thead>    <tr>        <th class=\"blank level0\" ></th>        <th class=\"col_heading level0 col0\" >School Type</th>        <th class=\"col_heading level0 col1\" >Total Students</th>        <th class=\"col_heading level0 col2\" >Total School Budget</th>        <th class=\"col_heading level0 col3\" >Per Student Budget</th>        <th class=\"col_heading level0 col4\" >Average Math Score</th>        <th class=\"col_heading level0 col5\" >Average Reading Score</th>        <th class=\"col_heading level0 col6\" >% Passing Math</th>        <th class=\"col_heading level0 col7\" >% Passing Reading</th>        <th class=\"col_heading level0 col8\" >% Passing Overall</th>    </tr>    <tr>        <th class=\"index_name level0\" >School Name</th>        <th class=\"blank\" ></th>        <th class=\"blank\" ></th>        <th class=\"blank\" ></th>        <th class=\"blank\" ></th>        <th class=\"blank\" ></th>        <th class=\"blank\" ></th>        <th class=\"blank\" ></th>        <th class=\"blank\" ></th>        <th class=\"blank\" ></th>    </tr></thead><tbody>\n                <tr>\n                        <th id=\"T_2ef2b406_c995_11eb_abcf_001bdc06ae6clevel0_row0\" class=\"row_heading level0 row0\" >Cabrera High School</th>\n                        <td id=\"T_2ef2b406_c995_11eb_abcf_001bdc06ae6crow0_col0\" class=\"data row0 col0\" >Charter</td>\n                        <td id=\"T_2ef2b406_c995_11eb_abcf_001bdc06ae6crow0_col1\" class=\"data row0 col1\" >1,858</td>\n                        <td id=\"T_2ef2b406_c995_11eb_abcf_001bdc06ae6crow0_col2\" class=\"data row0 col2\" >$1,081,356.00</td>\n                        <td id=\"T_2ef2b406_c995_11eb_abcf_001bdc06ae6crow0_col3\" class=\"data row0 col3\" >$582.00</td>\n                        <td id=\"T_2ef2b406_c995_11eb_abcf_001bdc06ae6crow0_col4\" class=\"data row0 col4\" >83.06%</td>\n                        <td id=\"T_2ef2b406_c995_11eb_abcf_001bdc06ae6crow0_col5\" class=\"data row0 col5\" >83.98%</td>\n                        <td id=\"T_2ef2b406_c995_11eb_abcf_001bdc06ae6crow0_col6\" class=\"data row0 col6\" >94.13%</td>\n                        <td id=\"T_2ef2b406_c995_11eb_abcf_001bdc06ae6crow0_col7\" class=\"data row0 col7\" >97.04%</td>\n                        <td id=\"T_2ef2b406_c995_11eb_abcf_001bdc06ae6crow0_col8\" class=\"data row0 col8\" >91.33%</td>\n            </tr>\n    </tbody></table>"
     },
     "metadata": {},
     "execution_count": 4
    }
   ],
   "source": [
    "## use get_school_summary() for the raw data\n",
    "# get_school_summary()\n",
    "top_schools(1)"
   ]
  },
  {
   "cell_type": "markdown",
   "metadata": {},
   "source": [
    "## Bottom Performing Schools (By % Overall Passing)\n",
    "\n",
    "* Sort and display the five worst-performing schools by % overall passing."
   ]
  },
  {
   "cell_type": "code",
   "execution_count": 5,
   "metadata": {},
   "outputs": [
    {
     "output_type": "execute_result",
     "data": {
      "text/plain": [
       "<pandas.io.formats.style.Styler at 0x1eee1eeeef0>"
      ],
      "text/html": "<style  type=\"text/css\" >\n</style><table id=\"T_2faf4df4_c995_11eb_9b5f_001bdc06ae6c\" ><thead>    <tr>        <th class=\"blank level0\" ></th>        <th class=\"col_heading level0 col0\" >School Type</th>        <th class=\"col_heading level0 col1\" >Total Students</th>        <th class=\"col_heading level0 col2\" >Total School Budget</th>        <th class=\"col_heading level0 col3\" >Per Student Budget</th>        <th class=\"col_heading level0 col4\" >Average Math Score</th>        <th class=\"col_heading level0 col5\" >Average Reading Score</th>        <th class=\"col_heading level0 col6\" >% Passing Math</th>        <th class=\"col_heading level0 col7\" >% Passing Reading</th>        <th class=\"col_heading level0 col8\" >% Passing Overall</th>    </tr>    <tr>        <th class=\"index_name level0\" >School Name</th>        <th class=\"blank\" ></th>        <th class=\"blank\" ></th>        <th class=\"blank\" ></th>        <th class=\"blank\" ></th>        <th class=\"blank\" ></th>        <th class=\"blank\" ></th>        <th class=\"blank\" ></th>        <th class=\"blank\" ></th>        <th class=\"blank\" ></th>    </tr></thead><tbody>\n                <tr>\n                        <th id=\"T_2faf4df4_c995_11eb_9b5f_001bdc06ae6clevel0_row0\" class=\"row_heading level0 row0\" >Rodriguez High School</th>\n                        <td id=\"T_2faf4df4_c995_11eb_9b5f_001bdc06ae6crow0_col0\" class=\"data row0 col0\" >District</td>\n                        <td id=\"T_2faf4df4_c995_11eb_9b5f_001bdc06ae6crow0_col1\" class=\"data row0 col1\" >3,999</td>\n                        <td id=\"T_2faf4df4_c995_11eb_9b5f_001bdc06ae6crow0_col2\" class=\"data row0 col2\" >$2,547,363.00</td>\n                        <td id=\"T_2faf4df4_c995_11eb_9b5f_001bdc06ae6crow0_col3\" class=\"data row0 col3\" >$637.00</td>\n                        <td id=\"T_2faf4df4_c995_11eb_9b5f_001bdc06ae6crow0_col4\" class=\"data row0 col4\" >76.84%</td>\n                        <td id=\"T_2faf4df4_c995_11eb_9b5f_001bdc06ae6crow0_col5\" class=\"data row0 col5\" >80.74%</td>\n                        <td id=\"T_2faf4df4_c995_11eb_9b5f_001bdc06ae6crow0_col6\" class=\"data row0 col6\" >66.37%</td>\n                        <td id=\"T_2faf4df4_c995_11eb_9b5f_001bdc06ae6crow0_col7\" class=\"data row0 col7\" >80.22%</td>\n                        <td id=\"T_2faf4df4_c995_11eb_9b5f_001bdc06ae6crow0_col8\" class=\"data row0 col8\" >52.99%</td>\n            </tr>\n    </tbody></table>"
     },
     "metadata": {},
     "execution_count": 5
    }
   ],
   "source": [
    "## use get_school_summary() for the raw data\n",
    "# get_school_summary()\n",
    "bottom_schools(1)"
   ]
  },
  {
   "cell_type": "markdown",
   "metadata": {},
   "source": [
    "## Math Scores by Grade\n",
    "\n",
    "* Create a table that lists the average Reading Score for students of each grade level (9th, 10th, 11th, 12th) at each school.\n",
    "\n",
    "  * Create a pandas series for each grade. Hint: use a conditional statement.\n",
    "  \n",
    "  * Group each series by school\n",
    "  \n",
    "  * Combine the series into a dataframe\n",
    "  \n",
    "  * Optional: give the displayed data cleaner formatting"
   ]
  },
  {
   "cell_type": "code",
   "execution_count": 6,
   "metadata": {},
   "outputs": [
    {
     "output_type": "execute_result",
     "data": {
      "text/plain": [
       "<pandas.io.formats.style.Styler at 0x1eee51dc160>"
      ],
      "text/html": "<style  type=\"text/css\" >\n</style><table id=\"T_306d147a_c995_11eb_8d45_001bdc06ae6c\" ><thead>    <tr>        <th class=\"index_name level0\" >Grade</th>        <th class=\"col_heading level0 col0\" >9th</th>        <th class=\"col_heading level0 col1\" >10th</th>        <th class=\"col_heading level0 col2\" >11th</th>        <th class=\"col_heading level0 col3\" >12th</th>    </tr>    <tr>        <th class=\"index_name level0\" >School Name</th>        <th class=\"blank\" ></th>        <th class=\"blank\" ></th>        <th class=\"blank\" ></th>        <th class=\"blank\" ></th>    </tr></thead><tbody>\n                <tr>\n                        <th id=\"T_306d147a_c995_11eb_8d45_001bdc06ae6clevel0_row0\" class=\"row_heading level0 row0\" >Bailey High School</th>\n                        <td id=\"T_306d147a_c995_11eb_8d45_001bdc06ae6crow0_col0\" class=\"data row0 col0\" >77.08%</td>\n                        <td id=\"T_306d147a_c995_11eb_8d45_001bdc06ae6crow0_col1\" class=\"data row0 col1\" >77.00%</td>\n                        <td id=\"T_306d147a_c995_11eb_8d45_001bdc06ae6crow0_col2\" class=\"data row0 col2\" >77.52%</td>\n                        <td id=\"T_306d147a_c995_11eb_8d45_001bdc06ae6crow0_col3\" class=\"data row0 col3\" >76.49%</td>\n            </tr>\n            <tr>\n                        <th id=\"T_306d147a_c995_11eb_8d45_001bdc06ae6clevel0_row1\" class=\"row_heading level0 row1\" >Cabrera High School</th>\n                        <td id=\"T_306d147a_c995_11eb_8d45_001bdc06ae6crow1_col0\" class=\"data row1 col0\" >83.09%</td>\n                        <td id=\"T_306d147a_c995_11eb_8d45_001bdc06ae6crow1_col1\" class=\"data row1 col1\" >83.15%</td>\n                        <td id=\"T_306d147a_c995_11eb_8d45_001bdc06ae6crow1_col2\" class=\"data row1 col2\" >82.77%</td>\n                        <td id=\"T_306d147a_c995_11eb_8d45_001bdc06ae6crow1_col3\" class=\"data row1 col3\" >83.28%</td>\n            </tr>\n            <tr>\n                        <th id=\"T_306d147a_c995_11eb_8d45_001bdc06ae6clevel0_row2\" class=\"row_heading level0 row2\" >Figueroa High School</th>\n                        <td id=\"T_306d147a_c995_11eb_8d45_001bdc06ae6crow2_col0\" class=\"data row2 col0\" >76.40%</td>\n                        <td id=\"T_306d147a_c995_11eb_8d45_001bdc06ae6crow2_col1\" class=\"data row2 col1\" >76.54%</td>\n                        <td id=\"T_306d147a_c995_11eb_8d45_001bdc06ae6crow2_col2\" class=\"data row2 col2\" >76.88%</td>\n                        <td id=\"T_306d147a_c995_11eb_8d45_001bdc06ae6crow2_col3\" class=\"data row2 col3\" >77.15%</td>\n            </tr>\n            <tr>\n                        <th id=\"T_306d147a_c995_11eb_8d45_001bdc06ae6clevel0_row3\" class=\"row_heading level0 row3\" >Ford High School</th>\n                        <td id=\"T_306d147a_c995_11eb_8d45_001bdc06ae6crow3_col0\" class=\"data row3 col0\" >77.36%</td>\n                        <td id=\"T_306d147a_c995_11eb_8d45_001bdc06ae6crow3_col1\" class=\"data row3 col1\" >77.67%</td>\n                        <td id=\"T_306d147a_c995_11eb_8d45_001bdc06ae6crow3_col2\" class=\"data row3 col2\" >76.92%</td>\n                        <td id=\"T_306d147a_c995_11eb_8d45_001bdc06ae6crow3_col3\" class=\"data row3 col3\" >76.18%</td>\n            </tr>\n            <tr>\n                        <th id=\"T_306d147a_c995_11eb_8d45_001bdc06ae6clevel0_row4\" class=\"row_heading level0 row4\" >Griffin High School</th>\n                        <td id=\"T_306d147a_c995_11eb_8d45_001bdc06ae6crow4_col0\" class=\"data row4 col0\" >82.04%</td>\n                        <td id=\"T_306d147a_c995_11eb_8d45_001bdc06ae6crow4_col1\" class=\"data row4 col1\" >84.23%</td>\n                        <td id=\"T_306d147a_c995_11eb_8d45_001bdc06ae6crow4_col2\" class=\"data row4 col2\" >83.84%</td>\n                        <td id=\"T_306d147a_c995_11eb_8d45_001bdc06ae6crow4_col3\" class=\"data row4 col3\" >83.36%</td>\n            </tr>\n            <tr>\n                        <th id=\"T_306d147a_c995_11eb_8d45_001bdc06ae6clevel0_row5\" class=\"row_heading level0 row5\" >Hernandez High School</th>\n                        <td id=\"T_306d147a_c995_11eb_8d45_001bdc06ae6crow5_col0\" class=\"data row5 col0\" >77.44%</td>\n                        <td id=\"T_306d147a_c995_11eb_8d45_001bdc06ae6crow5_col1\" class=\"data row5 col1\" >77.34%</td>\n                        <td id=\"T_306d147a_c995_11eb_8d45_001bdc06ae6crow5_col2\" class=\"data row5 col2\" >77.14%</td>\n                        <td id=\"T_306d147a_c995_11eb_8d45_001bdc06ae6crow5_col3\" class=\"data row5 col3\" >77.19%</td>\n            </tr>\n            <tr>\n                        <th id=\"T_306d147a_c995_11eb_8d45_001bdc06ae6clevel0_row6\" class=\"row_heading level0 row6\" >Holden High School</th>\n                        <td id=\"T_306d147a_c995_11eb_8d45_001bdc06ae6crow6_col0\" class=\"data row6 col0\" >83.79%</td>\n                        <td id=\"T_306d147a_c995_11eb_8d45_001bdc06ae6crow6_col1\" class=\"data row6 col1\" >83.43%</td>\n                        <td id=\"T_306d147a_c995_11eb_8d45_001bdc06ae6crow6_col2\" class=\"data row6 col2\" >85.00%</td>\n                        <td id=\"T_306d147a_c995_11eb_8d45_001bdc06ae6crow6_col3\" class=\"data row6 col3\" >82.86%</td>\n            </tr>\n            <tr>\n                        <th id=\"T_306d147a_c995_11eb_8d45_001bdc06ae6clevel0_row7\" class=\"row_heading level0 row7\" >Huang High School</th>\n                        <td id=\"T_306d147a_c995_11eb_8d45_001bdc06ae6crow7_col0\" class=\"data row7 col0\" >77.03%</td>\n                        <td id=\"T_306d147a_c995_11eb_8d45_001bdc06ae6crow7_col1\" class=\"data row7 col1\" >75.91%</td>\n                        <td id=\"T_306d147a_c995_11eb_8d45_001bdc06ae6crow7_col2\" class=\"data row7 col2\" >76.45%</td>\n                        <td id=\"T_306d147a_c995_11eb_8d45_001bdc06ae6crow7_col3\" class=\"data row7 col3\" >77.23%</td>\n            </tr>\n            <tr>\n                        <th id=\"T_306d147a_c995_11eb_8d45_001bdc06ae6clevel0_row8\" class=\"row_heading level0 row8\" >Johnson High School</th>\n                        <td id=\"T_306d147a_c995_11eb_8d45_001bdc06ae6crow8_col0\" class=\"data row8 col0\" >77.19%</td>\n                        <td id=\"T_306d147a_c995_11eb_8d45_001bdc06ae6crow8_col1\" class=\"data row8 col1\" >76.69%</td>\n                        <td id=\"T_306d147a_c995_11eb_8d45_001bdc06ae6crow8_col2\" class=\"data row8 col2\" >77.49%</td>\n                        <td id=\"T_306d147a_c995_11eb_8d45_001bdc06ae6crow8_col3\" class=\"data row8 col3\" >76.86%</td>\n            </tr>\n            <tr>\n                        <th id=\"T_306d147a_c995_11eb_8d45_001bdc06ae6clevel0_row9\" class=\"row_heading level0 row9\" >Pena High School</th>\n                        <td id=\"T_306d147a_c995_11eb_8d45_001bdc06ae6crow9_col0\" class=\"data row9 col0\" >83.63%</td>\n                        <td id=\"T_306d147a_c995_11eb_8d45_001bdc06ae6crow9_col1\" class=\"data row9 col1\" >83.37%</td>\n                        <td id=\"T_306d147a_c995_11eb_8d45_001bdc06ae6crow9_col2\" class=\"data row9 col2\" >84.33%</td>\n                        <td id=\"T_306d147a_c995_11eb_8d45_001bdc06ae6crow9_col3\" class=\"data row9 col3\" >84.12%</td>\n            </tr>\n            <tr>\n                        <th id=\"T_306d147a_c995_11eb_8d45_001bdc06ae6clevel0_row10\" class=\"row_heading level0 row10\" >Rodriguez High School</th>\n                        <td id=\"T_306d147a_c995_11eb_8d45_001bdc06ae6crow10_col0\" class=\"data row10 col0\" >76.86%</td>\n                        <td id=\"T_306d147a_c995_11eb_8d45_001bdc06ae6crow10_col1\" class=\"data row10 col1\" >76.61%</td>\n                        <td id=\"T_306d147a_c995_11eb_8d45_001bdc06ae6crow10_col2\" class=\"data row10 col2\" >76.40%</td>\n                        <td id=\"T_306d147a_c995_11eb_8d45_001bdc06ae6crow10_col3\" class=\"data row10 col3\" >77.69%</td>\n            </tr>\n            <tr>\n                        <th id=\"T_306d147a_c995_11eb_8d45_001bdc06ae6clevel0_row11\" class=\"row_heading level0 row11\" >Shelton High School</th>\n                        <td id=\"T_306d147a_c995_11eb_8d45_001bdc06ae6crow11_col0\" class=\"data row11 col0\" >83.42%</td>\n                        <td id=\"T_306d147a_c995_11eb_8d45_001bdc06ae6crow11_col1\" class=\"data row11 col1\" >82.92%</td>\n                        <td id=\"T_306d147a_c995_11eb_8d45_001bdc06ae6crow11_col2\" class=\"data row11 col2\" >83.38%</td>\n                        <td id=\"T_306d147a_c995_11eb_8d45_001bdc06ae6crow11_col3\" class=\"data row11 col3\" >83.78%</td>\n            </tr>\n            <tr>\n                        <th id=\"T_306d147a_c995_11eb_8d45_001bdc06ae6clevel0_row12\" class=\"row_heading level0 row12\" >Thomas High School</th>\n                        <td id=\"T_306d147a_c995_11eb_8d45_001bdc06ae6crow12_col0\" class=\"data row12 col0\" >83.59%</td>\n                        <td id=\"T_306d147a_c995_11eb_8d45_001bdc06ae6crow12_col1\" class=\"data row12 col1\" >83.09%</td>\n                        <td id=\"T_306d147a_c995_11eb_8d45_001bdc06ae6crow12_col2\" class=\"data row12 col2\" >83.50%</td>\n                        <td id=\"T_306d147a_c995_11eb_8d45_001bdc06ae6crow12_col3\" class=\"data row12 col3\" >83.50%</td>\n            </tr>\n            <tr>\n                        <th id=\"T_306d147a_c995_11eb_8d45_001bdc06ae6clevel0_row13\" class=\"row_heading level0 row13\" >Wilson High School</th>\n                        <td id=\"T_306d147a_c995_11eb_8d45_001bdc06ae6crow13_col0\" class=\"data row13 col0\" >83.09%</td>\n                        <td id=\"T_306d147a_c995_11eb_8d45_001bdc06ae6crow13_col1\" class=\"data row13 col1\" >83.72%</td>\n                        <td id=\"T_306d147a_c995_11eb_8d45_001bdc06ae6crow13_col2\" class=\"data row13 col2\" >83.20%</td>\n                        <td id=\"T_306d147a_c995_11eb_8d45_001bdc06ae6crow13_col3\" class=\"data row13 col3\" >83.04%</td>\n            </tr>\n            <tr>\n                        <th id=\"T_306d147a_c995_11eb_8d45_001bdc06ae6clevel0_row14\" class=\"row_heading level0 row14\" >Wright High School</th>\n                        <td id=\"T_306d147a_c995_11eb_8d45_001bdc06ae6crow14_col0\" class=\"data row14 col0\" >83.26%</td>\n                        <td id=\"T_306d147a_c995_11eb_8d45_001bdc06ae6crow14_col1\" class=\"data row14 col1\" >84.01%</td>\n                        <td id=\"T_306d147a_c995_11eb_8d45_001bdc06ae6crow14_col2\" class=\"data row14 col2\" >83.84%</td>\n                        <td id=\"T_306d147a_c995_11eb_8d45_001bdc06ae6crow14_col3\" class=\"data row14 col3\" >83.64%</td>\n            </tr>\n    </tbody></table>"
     },
     "metadata": {},
     "execution_count": 6
    }
   ],
   "source": [
    "math_scores_by_grade()"
   ]
  },
  {
   "cell_type": "markdown",
   "metadata": {},
   "source": [
    "## Reading Score by Grade \n",
    "\n",
    "* Perform the same operations as above for reading scores"
   ]
  },
  {
   "cell_type": "code",
   "execution_count": 7,
   "metadata": {},
   "outputs": [
    {
     "output_type": "execute_result",
     "data": {
      "text/plain": [
       "<pandas.io.formats.style.Styler at 0x1eee51f39e8>"
      ],
      "text/html": "<style  type=\"text/css\" >\n</style><table id=\"T_3159914c_c995_11eb_957c_001bdc06ae6c\" ><thead>    <tr>        <th class=\"index_name level0\" >Grade</th>        <th class=\"col_heading level0 col0\" >9th</th>        <th class=\"col_heading level0 col1\" >10th</th>        <th class=\"col_heading level0 col2\" >11th</th>        <th class=\"col_heading level0 col3\" >12th</th>    </tr>    <tr>        <th class=\"index_name level0\" >School Name</th>        <th class=\"blank\" ></th>        <th class=\"blank\" ></th>        <th class=\"blank\" ></th>        <th class=\"blank\" ></th>    </tr></thead><tbody>\n                <tr>\n                        <th id=\"T_3159914c_c995_11eb_957c_001bdc06ae6clevel0_row0\" class=\"row_heading level0 row0\" >Bailey High School</th>\n                        <td id=\"T_3159914c_c995_11eb_957c_001bdc06ae6crow0_col0\" class=\"data row0 col0\" >81.30%</td>\n                        <td id=\"T_3159914c_c995_11eb_957c_001bdc06ae6crow0_col1\" class=\"data row0 col1\" >80.91%</td>\n                        <td id=\"T_3159914c_c995_11eb_957c_001bdc06ae6crow0_col2\" class=\"data row0 col2\" >80.95%</td>\n                        <td id=\"T_3159914c_c995_11eb_957c_001bdc06ae6crow0_col3\" class=\"data row0 col3\" >80.91%</td>\n            </tr>\n            <tr>\n                        <th id=\"T_3159914c_c995_11eb_957c_001bdc06ae6clevel0_row1\" class=\"row_heading level0 row1\" >Cabrera High School</th>\n                        <td id=\"T_3159914c_c995_11eb_957c_001bdc06ae6crow1_col0\" class=\"data row1 col0\" >83.68%</td>\n                        <td id=\"T_3159914c_c995_11eb_957c_001bdc06ae6crow1_col1\" class=\"data row1 col1\" >84.25%</td>\n                        <td id=\"T_3159914c_c995_11eb_957c_001bdc06ae6crow1_col2\" class=\"data row1 col2\" >83.79%</td>\n                        <td id=\"T_3159914c_c995_11eb_957c_001bdc06ae6crow1_col3\" class=\"data row1 col3\" >84.29%</td>\n            </tr>\n            <tr>\n                        <th id=\"T_3159914c_c995_11eb_957c_001bdc06ae6clevel0_row2\" class=\"row_heading level0 row2\" >Figueroa High School</th>\n                        <td id=\"T_3159914c_c995_11eb_957c_001bdc06ae6crow2_col0\" class=\"data row2 col0\" >81.20%</td>\n                        <td id=\"T_3159914c_c995_11eb_957c_001bdc06ae6crow2_col1\" class=\"data row2 col1\" >81.41%</td>\n                        <td id=\"T_3159914c_c995_11eb_957c_001bdc06ae6crow2_col2\" class=\"data row2 col2\" >80.64%</td>\n                        <td id=\"T_3159914c_c995_11eb_957c_001bdc06ae6crow2_col3\" class=\"data row2 col3\" >81.38%</td>\n            </tr>\n            <tr>\n                        <th id=\"T_3159914c_c995_11eb_957c_001bdc06ae6clevel0_row3\" class=\"row_heading level0 row3\" >Ford High School</th>\n                        <td id=\"T_3159914c_c995_11eb_957c_001bdc06ae6crow3_col0\" class=\"data row3 col0\" >80.63%</td>\n                        <td id=\"T_3159914c_c995_11eb_957c_001bdc06ae6crow3_col1\" class=\"data row3 col1\" >81.26%</td>\n                        <td id=\"T_3159914c_c995_11eb_957c_001bdc06ae6crow3_col2\" class=\"data row3 col2\" >80.40%</td>\n                        <td id=\"T_3159914c_c995_11eb_957c_001bdc06ae6crow3_col3\" class=\"data row3 col3\" >80.66%</td>\n            </tr>\n            <tr>\n                        <th id=\"T_3159914c_c995_11eb_957c_001bdc06ae6clevel0_row4\" class=\"row_heading level0 row4\" >Griffin High School</th>\n                        <td id=\"T_3159914c_c995_11eb_957c_001bdc06ae6crow4_col0\" class=\"data row4 col0\" >83.37%</td>\n                        <td id=\"T_3159914c_c995_11eb_957c_001bdc06ae6crow4_col1\" class=\"data row4 col1\" >83.71%</td>\n                        <td id=\"T_3159914c_c995_11eb_957c_001bdc06ae6crow4_col2\" class=\"data row4 col2\" >84.29%</td>\n                        <td id=\"T_3159914c_c995_11eb_957c_001bdc06ae6crow4_col3\" class=\"data row4 col3\" >84.01%</td>\n            </tr>\n            <tr>\n                        <th id=\"T_3159914c_c995_11eb_957c_001bdc06ae6clevel0_row5\" class=\"row_heading level0 row5\" >Hernandez High School</th>\n                        <td id=\"T_3159914c_c995_11eb_957c_001bdc06ae6crow5_col0\" class=\"data row5 col0\" >80.87%</td>\n                        <td id=\"T_3159914c_c995_11eb_957c_001bdc06ae6crow5_col1\" class=\"data row5 col1\" >80.66%</td>\n                        <td id=\"T_3159914c_c995_11eb_957c_001bdc06ae6crow5_col2\" class=\"data row5 col2\" >81.40%</td>\n                        <td id=\"T_3159914c_c995_11eb_957c_001bdc06ae6crow5_col3\" class=\"data row5 col3\" >80.86%</td>\n            </tr>\n            <tr>\n                        <th id=\"T_3159914c_c995_11eb_957c_001bdc06ae6clevel0_row6\" class=\"row_heading level0 row6\" >Holden High School</th>\n                        <td id=\"T_3159914c_c995_11eb_957c_001bdc06ae6crow6_col0\" class=\"data row6 col0\" >83.68%</td>\n                        <td id=\"T_3159914c_c995_11eb_957c_001bdc06ae6crow6_col1\" class=\"data row6 col1\" >83.32%</td>\n                        <td id=\"T_3159914c_c995_11eb_957c_001bdc06ae6crow6_col2\" class=\"data row6 col2\" >83.82%</td>\n                        <td id=\"T_3159914c_c995_11eb_957c_001bdc06ae6crow6_col3\" class=\"data row6 col3\" >84.70%</td>\n            </tr>\n            <tr>\n                        <th id=\"T_3159914c_c995_11eb_957c_001bdc06ae6clevel0_row7\" class=\"row_heading level0 row7\" >Huang High School</th>\n                        <td id=\"T_3159914c_c995_11eb_957c_001bdc06ae6crow7_col0\" class=\"data row7 col0\" >81.29%</td>\n                        <td id=\"T_3159914c_c995_11eb_957c_001bdc06ae6crow7_col1\" class=\"data row7 col1\" >81.51%</td>\n                        <td id=\"T_3159914c_c995_11eb_957c_001bdc06ae6crow7_col2\" class=\"data row7 col2\" >81.42%</td>\n                        <td id=\"T_3159914c_c995_11eb_957c_001bdc06ae6crow7_col3\" class=\"data row7 col3\" >80.31%</td>\n            </tr>\n            <tr>\n                        <th id=\"T_3159914c_c995_11eb_957c_001bdc06ae6clevel0_row8\" class=\"row_heading level0 row8\" >Johnson High School</th>\n                        <td id=\"T_3159914c_c995_11eb_957c_001bdc06ae6crow8_col0\" class=\"data row8 col0\" >81.26%</td>\n                        <td id=\"T_3159914c_c995_11eb_957c_001bdc06ae6crow8_col1\" class=\"data row8 col1\" >80.77%</td>\n                        <td id=\"T_3159914c_c995_11eb_957c_001bdc06ae6crow8_col2\" class=\"data row8 col2\" >80.62%</td>\n                        <td id=\"T_3159914c_c995_11eb_957c_001bdc06ae6crow8_col3\" class=\"data row8 col3\" >81.23%</td>\n            </tr>\n            <tr>\n                        <th id=\"T_3159914c_c995_11eb_957c_001bdc06ae6clevel0_row9\" class=\"row_heading level0 row9\" >Pena High School</th>\n                        <td id=\"T_3159914c_c995_11eb_957c_001bdc06ae6crow9_col0\" class=\"data row9 col0\" >83.81%</td>\n                        <td id=\"T_3159914c_c995_11eb_957c_001bdc06ae6crow9_col1\" class=\"data row9 col1\" >83.61%</td>\n                        <td id=\"T_3159914c_c995_11eb_957c_001bdc06ae6crow9_col2\" class=\"data row9 col2\" >84.34%</td>\n                        <td id=\"T_3159914c_c995_11eb_957c_001bdc06ae6crow9_col3\" class=\"data row9 col3\" >84.59%</td>\n            </tr>\n            <tr>\n                        <th id=\"T_3159914c_c995_11eb_957c_001bdc06ae6clevel0_row10\" class=\"row_heading level0 row10\" >Rodriguez High School</th>\n                        <td id=\"T_3159914c_c995_11eb_957c_001bdc06ae6crow10_col0\" class=\"data row10 col0\" >80.99%</td>\n                        <td id=\"T_3159914c_c995_11eb_957c_001bdc06ae6crow10_col1\" class=\"data row10 col1\" >80.63%</td>\n                        <td id=\"T_3159914c_c995_11eb_957c_001bdc06ae6crow10_col2\" class=\"data row10 col2\" >80.86%</td>\n                        <td id=\"T_3159914c_c995_11eb_957c_001bdc06ae6crow10_col3\" class=\"data row10 col3\" >80.38%</td>\n            </tr>\n            <tr>\n                        <th id=\"T_3159914c_c995_11eb_957c_001bdc06ae6clevel0_row11\" class=\"row_heading level0 row11\" >Shelton High School</th>\n                        <td id=\"T_3159914c_c995_11eb_957c_001bdc06ae6crow11_col0\" class=\"data row11 col0\" >84.12%</td>\n                        <td id=\"T_3159914c_c995_11eb_957c_001bdc06ae6crow11_col1\" class=\"data row11 col1\" >83.44%</td>\n                        <td id=\"T_3159914c_c995_11eb_957c_001bdc06ae6crow11_col2\" class=\"data row11 col2\" >84.37%</td>\n                        <td id=\"T_3159914c_c995_11eb_957c_001bdc06ae6crow11_col3\" class=\"data row11 col3\" >82.78%</td>\n            </tr>\n            <tr>\n                        <th id=\"T_3159914c_c995_11eb_957c_001bdc06ae6clevel0_row12\" class=\"row_heading level0 row12\" >Thomas High School</th>\n                        <td id=\"T_3159914c_c995_11eb_957c_001bdc06ae6crow12_col0\" class=\"data row12 col0\" >83.73%</td>\n                        <td id=\"T_3159914c_c995_11eb_957c_001bdc06ae6crow12_col1\" class=\"data row12 col1\" >84.25%</td>\n                        <td id=\"T_3159914c_c995_11eb_957c_001bdc06ae6crow12_col2\" class=\"data row12 col2\" >83.59%</td>\n                        <td id=\"T_3159914c_c995_11eb_957c_001bdc06ae6crow12_col3\" class=\"data row12 col3\" >83.83%</td>\n            </tr>\n            <tr>\n                        <th id=\"T_3159914c_c995_11eb_957c_001bdc06ae6clevel0_row13\" class=\"row_heading level0 row13\" >Wilson High School</th>\n                        <td id=\"T_3159914c_c995_11eb_957c_001bdc06ae6crow13_col0\" class=\"data row13 col0\" >83.94%</td>\n                        <td id=\"T_3159914c_c995_11eb_957c_001bdc06ae6crow13_col1\" class=\"data row13 col1\" >84.02%</td>\n                        <td id=\"T_3159914c_c995_11eb_957c_001bdc06ae6crow13_col2\" class=\"data row13 col2\" >83.76%</td>\n                        <td id=\"T_3159914c_c995_11eb_957c_001bdc06ae6crow13_col3\" class=\"data row13 col3\" >84.32%</td>\n            </tr>\n            <tr>\n                        <th id=\"T_3159914c_c995_11eb_957c_001bdc06ae6clevel0_row14\" class=\"row_heading level0 row14\" >Wright High School</th>\n                        <td id=\"T_3159914c_c995_11eb_957c_001bdc06ae6crow14_col0\" class=\"data row14 col0\" >83.83%</td>\n                        <td id=\"T_3159914c_c995_11eb_957c_001bdc06ae6crow14_col1\" class=\"data row14 col1\" >83.81%</td>\n                        <td id=\"T_3159914c_c995_11eb_957c_001bdc06ae6crow14_col2\" class=\"data row14 col2\" >84.16%</td>\n                        <td id=\"T_3159914c_c995_11eb_957c_001bdc06ae6crow14_col3\" class=\"data row14 col3\" >84.07%</td>\n            </tr>\n    </tbody></table>"
     },
     "metadata": {},
     "execution_count": 7
    }
   ],
   "source": [
    "reading_scores_by_grade()"
   ]
  },
  {
   "source": [
    "# DONE\n",
    "###########################################################################\n",
    "# TODO"
   ],
   "cell_type": "markdown",
   "metadata": {}
  },
  {
   "cell_type": "markdown",
   "metadata": {},
   "source": [
    "## Scores by School Size"
   ]
  },
  {
   "cell_type": "markdown",
   "metadata": {},
   "source": [
    "* Perform the same operations as above, based on school size."
   ]
  },
  {
   "cell_type": "code",
   "execution_count": 22,
   "metadata": {
    "scrolled": true
   },
   "outputs": [
    {
     "data": {
      "text/html": [
       "<div>\n",
       "<style scoped>\n",
       "    .dataframe tbody tr th:only-of-type {\n",
       "        vertical-align: middle;\n",
       "    }\n",
       "\n",
       "    .dataframe tbody tr th {\n",
       "        vertical-align: top;\n",
       "    }\n",
       "\n",
       "    .dataframe thead th {\n",
       "        text-align: right;\n",
       "    }\n",
       "</style>\n",
       "<table border=\"1\" class=\"dataframe\">\n",
       "  <thead>\n",
       "    <tr style=\"text-align: right;\">\n",
       "      <th></th>\n",
       "      <th>Average Math Score</th>\n",
       "      <th>Average Reading Score</th>\n",
       "      <th>% Passing Math</th>\n",
       "      <th>% Passing Reading</th>\n",
       "      <th>% Overall Passing</th>\n",
       "    </tr>\n",
       "    <tr>\n",
       "      <th>School Size</th>\n",
       "      <th></th>\n",
       "      <th></th>\n",
       "      <th></th>\n",
       "      <th></th>\n",
       "      <th></th>\n",
       "    </tr>\n",
       "  </thead>\n",
       "  <tbody>\n",
       "    <tr>\n",
       "      <th>Small (&lt;1000)</th>\n",
       "      <td>83.821598</td>\n",
       "      <td>83.929843</td>\n",
       "      <td>93.550225</td>\n",
       "      <td>96.099437</td>\n",
       "      <td>89.883853</td>\n",
       "    </tr>\n",
       "    <tr>\n",
       "      <th>Medium (1000-2000)</th>\n",
       "      <td>83.374684</td>\n",
       "      <td>83.864438</td>\n",
       "      <td>93.599695</td>\n",
       "      <td>96.790680</td>\n",
       "      <td>90.621535</td>\n",
       "    </tr>\n",
       "    <tr>\n",
       "      <th>Large (2000-5000)</th>\n",
       "      <td>77.746417</td>\n",
       "      <td>81.344493</td>\n",
       "      <td>69.963361</td>\n",
       "      <td>82.766634</td>\n",
       "      <td>58.286003</td>\n",
       "    </tr>\n",
       "  </tbody>\n",
       "</table>\n",
       "</div>"
      ],
      "text/plain": [
       "                    Average Math Score  Average Reading Score  % Passing Math  \\\n",
       "School Size                                                                     \n",
       "Small (<1000)                83.821598              83.929843       93.550225   \n",
       "Medium (1000-2000)           83.374684              83.864438       93.599695   \n",
       "Large (2000-5000)            77.746417              81.344493       69.963361   \n",
       "\n",
       "                    % Passing Reading  % Overall Passing  \n",
       "School Size                                               \n",
       "Small (<1000)               96.099437          89.883853  \n",
       "Medium (1000-2000)          96.790680          90.621535  \n",
       "Large (2000-5000)           82.766634          58.286003  "
      ]
     },
     "execution_count": 22,
     "metadata": {},
     "output_type": "execute_result"
    }
   ],
   "source": []
  },
  {
   "cell_type": "markdown",
   "metadata": {},
   "source": [
    "## Scores by School Type"
   ]
  },
  {
   "cell_type": "markdown",
   "metadata": {},
   "source": [
    "* Perform the same operations as above, based on school type"
   ]
  },
  {
   "cell_type": "code",
   "execution_count": 24,
   "metadata": {},
   "outputs": [
    {
     "data": {
      "text/html": [
       "<div>\n",
       "<style scoped>\n",
       "    .dataframe tbody tr th:only-of-type {\n",
       "        vertical-align: middle;\n",
       "    }\n",
       "\n",
       "    .dataframe tbody tr th {\n",
       "        vertical-align: top;\n",
       "    }\n",
       "\n",
       "    .dataframe thead th {\n",
       "        text-align: right;\n",
       "    }\n",
       "</style>\n",
       "<table border=\"1\" class=\"dataframe\">\n",
       "  <thead>\n",
       "    <tr style=\"text-align: right;\">\n",
       "      <th></th>\n",
       "      <th>Average Math Score</th>\n",
       "      <th>Average Reading Score</th>\n",
       "      <th>% Passing Math</th>\n",
       "      <th>% Passing Reading</th>\n",
       "      <th>% Overall Passing</th>\n",
       "    </tr>\n",
       "    <tr>\n",
       "      <th>School Type</th>\n",
       "      <th></th>\n",
       "      <th></th>\n",
       "      <th></th>\n",
       "      <th></th>\n",
       "      <th></th>\n",
       "    </tr>\n",
       "  </thead>\n",
       "  <tbody>\n",
       "    <tr>\n",
       "      <th>Charter</th>\n",
       "      <td>83.473852</td>\n",
       "      <td>83.896421</td>\n",
       "      <td>93.620830</td>\n",
       "      <td>96.586489</td>\n",
       "      <td>90.432244</td>\n",
       "    </tr>\n",
       "    <tr>\n",
       "      <th>District</th>\n",
       "      <td>76.956733</td>\n",
       "      <td>80.966636</td>\n",
       "      <td>66.548453</td>\n",
       "      <td>80.799062</td>\n",
       "      <td>53.672208</td>\n",
       "    </tr>\n",
       "  </tbody>\n",
       "</table>\n",
       "</div>"
      ],
      "text/plain": [
       "             Average Math Score  Average Reading Score  % Passing Math  \\\n",
       "School Type                                                              \n",
       "Charter               83.473852              83.896421       93.620830   \n",
       "District              76.956733              80.966636       66.548453   \n",
       "\n",
       "             % Passing Reading  % Overall Passing  \n",
       "School Type                                        \n",
       "Charter              96.586489          90.432244  \n",
       "District             80.799062          53.672208  "
      ]
     },
     "execution_count": 24,
     "metadata": {},
     "output_type": "execute_result"
    }
   ],
   "source": []
  },
  {
   "cell_type": "code",
   "execution_count": null,
   "metadata": {},
   "outputs": [],
   "source": []
  }
 ],
 "metadata": {
  "anaconda-cloud": {},
  "kernel_info": {
   "name": "python3"
  },
  "kernelspec": {
   "name": "python3610jvsc74a57bd079264824c40396a64d10485446bbc394f17a77ecfe3bed33e1bfdf8fe75a4647",
   "display_name": "Python 3.6.10 64-bit ('PythonData': conda)"
  },
  "language_info": {
   "codemirror_mode": {
    "name": "ipython",
    "version": 3
   },
   "file_extension": ".py",
   "mimetype": "text/x-python",
   "name": "python",
   "nbconvert_exporter": "python",
   "pygments_lexer": "ipython3",
   "version": "3.6.10"
  },
  "latex_envs": {
   "LaTeX_envs_menu_present": true,
   "autoclose": false,
   "autocomplete": true,
   "bibliofile": "biblio.bib",
   "cite_by": "apalike",
   "current_citInitial": 1,
   "eqLabelWithNumbers": true,
   "eqNumInitial": 1,
   "hotkeys": {
    "equation": "Ctrl-E",
    "itemize": "Ctrl-I"
   },
   "labels_anchors": false,
   "latex_user_defs": false,
   "report_style_numbering": false,
   "user_envs_cfg": false
  },
  "nteract": {
   "version": "0.8.4"
  }
 },
 "nbformat": 4,
 "nbformat_minor": 1
}